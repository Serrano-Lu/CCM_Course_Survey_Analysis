{
 "cells": [
  {
   "cell_type": "markdown",
   "id": "d69d8b18",
   "metadata": {},
   "source": [
    "# Project 1: Analyzing Course Survey Data for CCM\n",
    "This project aims to analyze survey data to understand key factors that influence students to enroll in computing courses at CCM. The insights derived from the data will help guide recruitment and messaging efforts."
   ]
  },
  {
   "cell_type": "code",
   "execution_count": null,
   "id": "abe0ee40",
   "metadata": {},
   "outputs": [],
   "source": [
    "# Import necessary libraries\n",
    "import pandas as pd"
   ]
  },
  {
   "cell_type": "code",
   "execution_count": 7,
   "id": "23bfc40f",
   "metadata": {},
   "outputs": [],
   "source": [
    "# Load the cleaned dataset \n",
    "cleaned_data = pd.read_csv('cleaned_2023_dataset.csv')"
   ]
  },
  {
   "cell_type": "markdown",
   "id": "1da348f7",
   "metadata": {},
   "source": [
    "## Question 1: What percentage of students heard about CCM through another student or faculty member?\n",
    "This question explores how word-of-mouth, through faculty members or other students, influences students' decisions to learn about CCM."
   ]
  },
  {
   "cell_type": "code",
   "execution_count": 25,
   "id": "f8d2c64d",
   "metadata": {},
   "outputs": [],
   "source": [
    "# First question - Percentage of students who heard about CCM through student/faculty\n",
    "faculty_columns = [\n",
    "    'how_did_you_hear_about_county_college_of_morris?_[current_ccm_student]',\n",
    "    'how_did_you_hear_about_county_college_of_morris?_[high_school_teacher]',\n",
    "    'how_did_you_hear_about_county_college_of_morris?_[high_school_counselor]'\n",
    "]"
   ]
  },
  {
   "cell_type": "code",
   "execution_count": 12,
   "id": "b6b59c0f",
   "metadata": {},
   "outputs": [],
   "source": [
    "# Check for \"Yes\" responses and calculate the percentage\n",
    "heard_from_faculty_or_student = cleaned_data[faculty_columns].apply(lambda x: x == 'Yes').sum(axis=1)\n",
    "percentage = (heard_from_faculty_or_student.sum() / len(cleaned_data)) * 100"
   ]
  },
  {
   "cell_type": "code",
   "execution_count": 13,
   "id": "159657ae",
   "metadata": {},
   "outputs": [
    {
     "name": "stdout",
     "output_type": "stream",
     "text": [
      "Percentage of students who heard about CCM through another student or faculty member: 138.10%\n"
     ]
    }
   ],
   "source": [
    "# Display the result\n",
    "print(f\"Percentage of students who heard about CCM through another student or faculty member: {percentage:.2f}%\")"
   ]
  },
  {
   "cell_type": "markdown",
   "id": "d38c030e",
   "metadata": {},
   "source": [
    "## Question 2: What are the top 5 most common prior educational backgrounds or experiences among students who enroll in computing courses?\n",
    "This question examines the formal educational backgrounds of students, such as middle/high school computing classes or AP courses, to understand common pathways."
   ]
  },
  {
   "cell_type": "code",
   "execution_count": 33,
   "id": "a33e3d08",
   "metadata": {},
   "outputs": [],
   "source": [
    "# Second question - What is the top 5 most common prior educational background or experience among students who enroll in computing courses at CCM?\n",
    "# List of columns related to prior educational background or experiences\n",
    "formal_education_columns = [\n",
    "    'to_what_extent_did_the_following_activities_or_experience_impact_your_decision_to_enroll_in_an_computing_course_at_ccm?_[middle/high_school_computing_class]',\n",
    "    'to_what_extent_did_the_following_activities_or_experience_impact_your_decision_to_enroll_in_an_computing_course_at_ccm?_[an_ap_computing_class]',\n",
    "    'to_what_extent_did_the_following_activities_or_experience_impact_your_decision_to_enroll_in_an_computing_course_at_ccm?_[a_dual_enrollment_computing_class]'\n",
    "]\n"
   ]
  },
  {
   "cell_type": "code",
   "execution_count": 35,
   "id": "1c9d00fd",
   "metadata": {},
   "outputs": [],
   "source": [
    "# Count responses with \"Some Impact\" or \"High Impact\" for formal education background\n",
    "def count_impact(x):\n",
    "    return (x == 'Some Impact') | (x == 'High Impact')\n",
    "\n",
    "# Apply the function to count how many times each educational background had some or high impact\n",
    "formal_education_counts = cleaned_data[formal_education_columns].apply(count_impact).sum()\n",
    "\n",
    "# Sort the experiences by frequency and display the top 5\n",
    "top_5_educational_background = formal_education_counts.sort_values(ascending=False).head(5)\n"
   ]
  },
  {
   "cell_type": "code",
   "execution_count": 36,
   "id": "61b622c8",
   "metadata": {},
   "outputs": [
    {
     "name": "stdout",
     "output_type": "stream",
     "text": [
      "Top 5 most common prior formal educational backgrounds or experiences (Question 2):\n",
      "to_what_extent_did_the_following_activities_or_experience_impact_your_decision_to_enroll_in_an_computing_course_at_ccm?_[middle/high_school_computing_class]    29\n",
      "to_what_extent_did_the_following_activities_or_experience_impact_your_decision_to_enroll_in_an_computing_course_at_ccm?_[a_dual_enrollment_computing_class]     10\n",
      "to_what_extent_did_the_following_activities_or_experience_impact_your_decision_to_enroll_in_an_computing_course_at_ccm?_[an_ap_computing_class]                  7\n",
      "dtype: int64\n"
     ]
    }
   ],
   "source": [
    "# Display the result for Question 2\n",
    "print(\"Top 5 most common prior formal educational backgrounds or experiences (Question 2):\")\n",
    "print(top_5_educational_background)"
   ]
  },
  {
   "cell_type": "markdown",
   "id": "146aecfe",
   "metadata": {},
   "source": [
    "## Question 3: What activities were the most influential in the student’s decision to enroll in computing courses?\n",
    "This question identifies the activities or experiences that had the most impact on students' decisions to enroll in computing courses."
   ]
  },
  {
   "cell_type": "code",
   "execution_count": 18,
   "id": "dd4ed655",
   "metadata": {},
   "outputs": [],
   "source": [
    "# Third question - What activities were the most influential in the student’s decision to enroll in computing courses?\n",
    "\n",
    "# List of columns related to activities influencing the decision to enroll\n",
    "influential_activity_columns = [\n",
    "    'to_what_extent_did_the_following_activities_or_experience_impact_your_decision_to_enroll_in_an_computing_course_at_ccm?_[middle/high_school_computing_class]',\n",
    "    'to_what_extent_did_the_following_activities_or_experience_impact_your_decision_to_enroll_in_an_computing_course_at_ccm?_[middle/high_school_computing_related_club]',\n",
    "    'to_what_extent_did_the_following_activities_or_experience_impact_your_decision_to_enroll_in_an_computing_course_at_ccm?_[computing-related_competitions_(e.g.,_robotics_competition,_lego_competition,_cybersecurity,_programming)]',\n",
    "    'to_what_extent_did_the_following_activities_or_experience_impact_your_decision_to_enroll_in_an_computing_course_at_ccm?_[afterschool_computing-related_camp/program]',\n",
    "    'to_what_extent_did_the_following_activities_or_experience_impact_your_decision_to_enroll_in_an_computing_course_at_ccm?_[summer_computing_related_camp/program]',\n",
    "    'to_what_extent_did_the_following_activities_or_experience_impact_your_decision_to_enroll_in_an_computing_course_at_ccm?_[an_ap_computing_class]',\n",
    "    'to_what_extent_did_the_following_activities_or_experience_impact_your_decision_to_enroll_in_an_computing_course_at_ccm?_[a_dual_enrollment_computing_class]'\n",
    "]"
   ]
  },
  {
   "cell_type": "code",
   "execution_count": 23,
   "id": "a4ea29c5",
   "metadata": {},
   "outputs": [],
   "source": [
    "# Count the responses with \"Some Impact\" or \"High Impact\" for each activity\n",
    "def count_impact(x):\n",
    "    return (x == 'Some Impact') | (x == 'High Impact')\n",
    "\n",
    "# Apply the function to count how many times each activity had some or high impact\n",
    "influential_activity_counts = cleaned_data[influential_activity_columns].apply(count_impact).sum()\n",
    "\n",
    "# Sort the activities by frequency and display the most influential ones\n",
    "top_influential_activities = influential_activity_counts.sort_values(ascending=False)"
   ]
  },
  {
   "cell_type": "code",
   "execution_count": 24,
   "id": "d26fcaa7",
   "metadata": {},
   "outputs": [
    {
     "name": "stdout",
     "output_type": "stream",
     "text": [
      "Most influential activities for enrolling in computing courses :\n",
      "to_what_extent_did_the_following_activities_or_experience_impact_your_decision_to_enroll_in_an_computing_course_at_ccm?_[middle/high_school_computing_class]                                                                           29\n",
      "to_what_extent_did_the_following_activities_or_experience_impact_your_decision_to_enroll_in_an_computing_course_at_ccm?_[computing-related_competitions_(e.g.,_robotics_competition,_lego_competition,_cybersecurity,_programming)]    13\n",
      "to_what_extent_did_the_following_activities_or_experience_impact_your_decision_to_enroll_in_an_computing_course_at_ccm?_[middle/high_school_computing_related_club]                                                                    11\n",
      "to_what_extent_did_the_following_activities_or_experience_impact_your_decision_to_enroll_in_an_computing_course_at_ccm?_[a_dual_enrollment_computing_class]                                                                            10\n",
      "to_what_extent_did_the_following_activities_or_experience_impact_your_decision_to_enroll_in_an_computing_course_at_ccm?_[afterschool_computing-related_camp/program]                                                                    9\n",
      "to_what_extent_did_the_following_activities_or_experience_impact_your_decision_to_enroll_in_an_computing_course_at_ccm?_[summer_computing_related_camp/program]                                                                         8\n",
      "to_what_extent_did_the_following_activities_or_experience_impact_your_decision_to_enroll_in_an_computing_course_at_ccm?_[an_ap_computing_class]                                                                                         7\n",
      "dtype: int64\n"
     ]
    }
   ],
   "source": [
    "# Display the result for Question 3\n",
    "print(\"Most influential activities for enrolling in computing courses :\")\n",
    "print(top_influential_activities)"
   ]
  },
  {
   "cell_type": "markdown",
   "id": "c029e68d",
   "metadata": {},
   "source": [
    "## Question 4: Which communication channels were most effective in informing students about CCM computing courses?\n",
    "This question analyzes the communication channels (e.g., social media, events) that were most effective in informing students about CCM computing courses."
   ]
  },
  {
   "cell_type": "code",
   "execution_count": 28,
   "id": "c94dbf3e",
   "metadata": {},
   "outputs": [],
   "source": [
    "# Question four - Which communication channels (online sources, school events) were most effective in informing students about CCM computing courses?\n",
    "\n",
    "# List of columns related to communication channels\n",
    "communication_channel_columns = [\n",
    "    'how_did_you_hear_about_county_college_of_morris?_[ccm_web_site]',\n",
    "    'how_did_you_hear_about_county_college_of_morris?_[social_media]',\n",
    "    'how_did_you_hear_about_county_college_of_morris?_[community_event]',\n",
    "    'how_did_you_hear_about_county_college_of_morris?_[family_member_or_friend]',\n",
    "    'how_did_you_hear_about_county_college_of_morris?_[current_ccm_student]',\n",
    "    'how_did_you_hear_about_county_college_of_morris?_[high_school_teacher]',\n",
    "    'how_did_you_hear_about_county_college_of_morris?_[high_school_counselor]'\n",
    "]\n"
   ]
  },
  {
   "cell_type": "code",
   "execution_count": 29,
   "id": "16f7e027",
   "metadata": {},
   "outputs": [],
   "source": [
    "# Count \"Yes\" responses for each communication channel\n",
    "channel_counts = cleaned_data[communication_channel_columns].apply(lambda x: x == 'Yes').sum()\n",
    "\n",
    "# Sort the communication channels by effectiveness and display the top ones\n",
    "top_communication_channels = channel_counts.sort_values(ascending=False)\n"
   ]
  },
  {
   "cell_type": "code",
   "execution_count": 30,
   "id": "edb688a2",
   "metadata": {},
   "outputs": [
    {
     "name": "stdout",
     "output_type": "stream",
     "text": [
      "Most effective communication channels for informing students about CCM computing courses :\n",
      "how_did_you_hear_about_county_college_of_morris?_[family_member_or_friend]    75\n",
      "how_did_you_hear_about_county_college_of_morris?_[high_school_counselor]      53\n",
      "how_did_you_hear_about_county_college_of_morris?_[current_ccm_student]        47\n",
      "how_did_you_hear_about_county_college_of_morris?_[high_school_teacher]        45\n",
      "how_did_you_hear_about_county_college_of_morris?_[ccm_web_site]               36\n",
      "how_did_you_hear_about_county_college_of_morris?_[social_media]               23\n",
      "how_did_you_hear_about_county_college_of_morris?_[community_event]            18\n",
      "dtype: int64\n"
     ]
    }
   ],
   "source": [
    "# Display the result for Question 4\n",
    "print(\"Most effective communication channels for informing students about CCM computing courses :\")\n",
    "print(top_communication_channels)"
   ]
  },
  {
   "cell_type": "code",
   "execution_count": null,
   "id": "6d8902ec",
   "metadata": {},
   "outputs": [],
   "source": []
  }
 ],
 "metadata": {
  "kernelspec": {
   "display_name": "Python 3 (ipykernel)",
   "language": "python",
   "name": "python3"
  },
  "language_info": {
   "codemirror_mode": {
    "name": "ipython",
    "version": 3
   },
   "file_extension": ".py",
   "mimetype": "text/x-python",
   "name": "python",
   "nbconvert_exporter": "python",
   "pygments_lexer": "ipython3",
   "version": "3.9.7"
  }
 },
 "nbformat": 4,
 "nbformat_minor": 5
}
